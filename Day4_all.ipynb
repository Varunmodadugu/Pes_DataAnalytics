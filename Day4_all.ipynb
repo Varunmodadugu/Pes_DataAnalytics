{
 "cells": [
  {
   "cell_type": "code",
   "execution_count": 5,
   "id": "c423f8c7-c755-4587-9b94-a6ca672f7325",
   "metadata": {},
   "outputs": [
    {
     "name": "stdout",
     "output_type": "stream",
     "text": [
      "Match found: 123\n"
     ]
    }
   ],
   "source": [
    "#When dealing with regegular expressions it is necessary to know difference between the search and the match\n",
    "#in match it onlt checks the starting part of the string\n",
    "import re\n",
    "pattern = r'\\d+'  # Pattern to match one or more digits\n",
    "string = \"123abc\"\n",
    "\n",
    "result = re.match(pattern, string)\n",
    "if result:\n",
    "    print(\"Match found:\", result.group())\n",
    "else:\n",
    "    print(\"No match found\")"
   ]
  },
  {
   "cell_type": "code",
   "execution_count": 10,
   "id": "4a85cfab-2fba-47c8-a5bb-96d5fa662377",
   "metadata": {},
   "outputs": [
    {
     "name": "stdout",
     "output_type": "stream",
     "text": [
      "No match found\n"
     ]
    }
   ],
   "source": [
    "import re\n",
    "pattern = r'\\d+'  # Pattern to match one or more digits\n",
    "string = \"abc123\"\n",
    "\n",
    "result = re.match(pattern, string)\n",
    "if result:\n",
    "    print(\"Match found:\", result.group())\n",
    "else:\n",
    "    print(\"No match found\")"
   ]
  },
  {
   "cell_type": "code",
   "execution_count": 12,
   "id": "13879ccc-295e-45b2-b2c3-7a3d462e9db3",
   "metadata": {},
   "outputs": [
    {
     "name": "stdout",
     "output_type": "stream",
     "text": [
      "Search found: 123\n"
     ]
    }
   ],
   "source": [
    "#in search it checks total string\n",
    "result = re.search(pattern, \"abc123\")\n",
    "if result:\n",
    "    print(\"Search found:\", result.group())"
   ]
  },
  {
   "cell_type": "code",
   "execution_count": null,
   "id": "c39a6215-c518-4b96-b555-cb0caf944b00",
   "metadata": {},
   "outputs": [],
   "source": [
    "# Search and replace syntax\n",
    "re.sub(pattern, replacement, string)\n"
   ]
  },
  {
   "cell_type": "code",
   "execution_count": 14,
   "id": "61638304-85c8-4062-a7f5-a9a3f71cae64",
   "metadata": {},
   "outputs": [
    {
     "name": "stdout",
     "output_type": "stream",
     "text": [
      "I have X apples and X bananas.\n"
     ]
    }
   ],
   "source": [
    "text = \"I have 10 apples and 20 bananas.\"\n",
    "pattern = r'\\d+'  # Match one or more digits\n",
    "\n",
    "# Replace all numbers with 'X'\n",
    "result = re.sub(pattern, 'X', text)\n",
    "print(result)"
   ]
  },
  {
   "cell_type": "code",
   "execution_count": 16,
   "id": "c7ec45a6-55dc-41ab-b7be-f16c7164d170",
   "metadata": {},
   "outputs": [
    {
     "name": "stdout",
     "output_type": "stream",
     "text": [
      "['1990', '08']\n"
     ]
    }
   ],
   "source": [
    "#Extended regular expressions\n",
    "pattern = r'\\d{2,4}'  # Matches 2 to 4 digits\n",
    "text = \"Year: 1990, Month: 08\"\n",
    "result = re.findall(pattern, text)\n",
    "print(result)  # Output: ['1990', '08']\n"
   ]
  },
  {
   "cell_type": "code",
   "execution_count": 20,
   "id": "e1c9eeb2-819f-455a-96c8-5301795f9c66",
   "metadata": {},
   "outputs": [
    {
     "name": "stdout",
     "output_type": "stream",
     "text": [
      "['cat', 'dog']\n"
     ]
    }
   ],
   "source": [
    "pattern = r'(cat|dog)'  # Match 'cat' or 'dog'\n",
    "text = \"I have a cat and a dog.\"\n",
    "result = re.findall(pattern, text)\n",
    "print(result)  # Output: ['cat', 'dog']\n"
   ]
  },
  {
   "cell_type": "code",
   "execution_count": null,
   "id": "6a6d69db-86f0-42ca-88e7-7d9bacaa6ceb",
   "metadata": {},
   "outputs": [],
   "source": []
  }
 ],
 "metadata": {
  "kernelspec": {
   "display_name": "Python 3 (ipykernel)",
   "language": "python",
   "name": "python3"
  },
  "language_info": {
   "codemirror_mode": {
    "name": "ipython",
    "version": 3
   },
   "file_extension": ".py",
   "mimetype": "text/x-python",
   "name": "python",
   "nbconvert_exporter": "python",
   "pygments_lexer": "ipython3",
   "version": "3.12.4"
  }
 },
 "nbformat": 4,
 "nbformat_minor": 5
}
