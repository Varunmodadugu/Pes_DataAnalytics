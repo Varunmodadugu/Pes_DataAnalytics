{
 "cells": [
  {
   "cell_type": "code",
   "execution_count": 4,
   "id": "fa25f624-984e-44b0-9814-3ffdceb309ad",
   "metadata": {},
   "outputs": [
    {
     "name": "stdout",
     "output_type": "stream",
     "text": [
      "Asabeneh\n",
      "Yetayeh\n",
      "250\n",
      "Finland\n",
      "Helsinki\n"
     ]
    }
   ],
   "source": [
    "class Person:\n",
    "      def __init__(self, firstname, lastname, age, country, city):\n",
    "          self.firstname = firstname #public\n",
    "          self.lastname = lastname\n",
    "          self.age = age\n",
    "          self.country = country\n",
    "          self.city = city\n",
    "\n",
    "\n",
    "p = Person('Asabeneh', 'Yetayeh', 250, 'Finland', 'Helsinki')\n",
    "print(p.firstname)\n",
    "print(p.lastname)\n",
    "print(p.age)\n",
    "print(p.country)\n",
    "print(p.city)"
   ]
  },
  {
   "cell_type": "code",
   "execution_count": 10,
   "id": "d3639818-0220-4989-ba01-fef96485ebe6",
   "metadata": {},
   "outputs": [
    {
     "name": "stdout",
     "output_type": "stream",
     "text": [
      "varun\n",
      "cse\n"
     ]
    }
   ],
   "source": [
    "class Student:\n",
    "    def __init__(self,name,roll_no,section):\n",
    "        self.name = name\n",
    "        self.roll_no = roll_no\n",
    "        self.__section = section\n",
    "a = Student(\"varun\",124,\"cse\")\n",
    "print(a.name)\n",
    "print(a._Student__section)\n"
   ]
  },
  {
   "cell_type": "code",
   "execution_count": 12,
   "id": "b5d21694-d03c-48b3-b830-8360060cf597",
   "metadata": {},
   "outputs": [
    {
     "name": "stdout",
     "output_type": "stream",
     "text": [
      "124\n",
      "cse\n"
     ]
    }
   ],
   "source": [
    "print(a.roll_no)\n",
    "print(a._Student__section)"
   ]
  },
  {
   "cell_type": "code",
   "execution_count": 10,
   "id": "5982ddaa-baa1-4e5a-badf-ed44405755eb",
   "metadata": {},
   "outputs": [
    {
     "name": "stdout",
     "output_type": "stream",
     "text": [
      "<__main__.Student object at 0x00000146251B5400>\n"
     ]
    }
   ],
   "source": [
    "print(a)"
   ]
  },
  {
   "cell_type": "code",
   "execution_count": 14,
   "id": "6e1f5184-6d92-410d-bbf3-a7d5491cba26",
   "metadata": {},
   "outputs": [
    {
     "name": "stdout",
     "output_type": "stream",
     "text": [
      "Fer\n",
      "qwerty\n"
     ]
    }
   ],
   "source": [
    "class User:\n",
    "    def __init__(self, name, password):\n",
    "        self.name = name # Public attribute\n",
    "        self.__password = password # Private attribute with double underscore '__'\n",
    "        \n",
    "user1 = User(\"Fer\", \"qwerty\")\n",
    "print (user1.name)\n",
    "print(user1._User__password)"
   ]
  },
  {
   "cell_type": "code",
   "execution_count": 14,
   "id": "75a1d6c3-8221-4d5b-9d86-07a88270bbc3",
   "metadata": {},
   "outputs": [
    {
     "name": "stdout",
     "output_type": "stream",
     "text": [
      "Fer qwerty\n"
     ]
    }
   ],
   "source": [
    "class User:\n",
    "    def __init__(self, name, password):\n",
    "        self.name = name # Public attribute\n",
    "        self.__password = password # Private attribute with '__\n",
    "        \n",
    "user1 = User(\"Fer\", \"qwerty\")\n",
    "print (user1.name, user1._User__password) # Set the class of the private attribute\n"
   ]
  },
  {
   "cell_type": "code",
   "execution_count": 20,
   "id": "557b5faa-31f3-4b92-b5c1-c5a3b460ad6e",
   "metadata": {},
   "outputs": [
    {
     "name": "stdout",
     "output_type": "stream",
     "text": [
      "Cannot divide by zero.\n"
     ]
    }
   ],
   "source": [
    "try:\n",
    "    result = 10 / 0  # This will raise a ZeroDivisionError\n",
    "except ZeroDivisionError:\n",
    "    print(\"Cannot divide by zero.\")\n",
    "    "
   ]
  },
  {
   "cell_type": "code",
   "execution_count": 22,
   "id": "2355c2f3-88a0-4c9f-aa0e-8ea485c8357f",
   "metadata": {},
   "outputs": [
    {
     "name": "stdin",
     "output_type": "stream",
     "text": [
      "Enter a number:  12\n"
     ]
    }
   ],
   "source": [
    "try:\n",
    "    value = int(input(\"Enter a number: \"))\n",
    "    result = 10 / value\n",
    "except ZeroDivisionError:\n",
    "    print(\"You cannot divide by zero.\")\n",
    "except ValueError:\n",
    "    print(\"Invalid input! Please enter a number.\")"
   ]
  },
  {
   "cell_type": "code",
   "execution_count": 19,
   "id": "e3ebdece-6fe2-4207-b016-454fbfde6ad0",
   "metadata": {},
   "outputs": [
    {
     "name": "stdout",
     "output_type": "stream",
     "text": [
      "Satyam 102\n"
     ]
    }
   ],
   "source": [
    "# A Python program to demonstrate inheritance\n",
    "class Person:\n",
    "  \n",
    "  # Constructor\n",
    "  def __init__(self, name, id):\n",
    "    self.name = name\n",
    "    self.id = id\n",
    "\n",
    "  # To check if this person is an employee\n",
    "  def Display(self):\n",
    "    print(self.name)\n",
    "    print(self.id)\n",
    "\n",
    "\n",
    "# Driver code\n",
    "emp = Person(\"Satyam\", 102) # An Object of Person\n",
    "emp.Display()"
   ]
  },
  {
   "cell_type": "code",
   "execution_count": null,
   "id": "a0167200-c095-4ceb-aec8-22f21a4f5ccb",
   "metadata": {},
   "outputs": [],
   "source": []
  },
  {
   "cell_type": "code",
   "execution_count": 34,
   "id": "885cb341-f7da-4d45-adc0-16a11f1af3d8",
   "metadata": {},
   "outputs": [
    {
     "name": "stdout",
     "output_type": "stream",
     "text": [
      "Cannot divide by zero.\n"
     ]
    }
   ],
   "source": [
    "try:\n",
    "    result = 10 / 0  # This will raise a ZeroDivisionError\n",
    "except ZeroDivisionError:\n",
    "    print(\"Cannot divide by zero.\")"
   ]
  },
  {
   "cell_type": "code",
   "execution_count": 21,
   "id": "32c35ea3-8d54-4c5a-953a-f23d1f7bb164",
   "metadata": {},
   "outputs": [
    {
     "name": "stdout",
     "output_type": "stream",
     "text": [
      "Inside Vehicle class\n",
      "Inside Car class\n"
     ]
    }
   ],
   "source": [
    "class Vehicle:\n",
    "    def Vehicle_info(self):  \n",
    "        print('Inside Vehicle class')\n",
    "\n",
    "# Derived class\n",
    "class Car(Vehicle):\n",
    "    def car_info(self):\n",
    "        print('Inside Car class')\n",
    "\n",
    "# Create object of Car\n",
    "car = Car()\n",
    "\n",
    "# access Vehicle's info using car object\n",
    "car.Vehicle_info()\n",
    "car.car_info()\n"
   ]
  },
  {
   "cell_type": "code",
   "execution_count": 23,
   "id": "24ad79b4-93c6-4ae0-b165-3cbffdc625f3",
   "metadata": {},
   "outputs": [
    {
     "name": "stdout",
     "output_type": "stream",
     "text": [
      "Inside Person class\n",
      "Name: Milaan Age: 33\n",
      "Inside Company class\n",
      "Name: Google location: Atlanta\n"
     ]
    }
   ],
   "source": [
    "# Example 1: Multiple Inheritance\n",
    "\n",
    "# Base class 1\n",
    "class Person:\n",
    "    def person_info(self, name, age):\n",
    "        print('Inside Person class')\n",
    "        print('Name:', name, 'Age:', age)\n",
    "\n",
    "# Base class 2\n",
    "class Company:\n",
    "    def company_info(self, company_name, location):\n",
    "        print('Inside Company class')\n",
    "        print('Name:', company_name, 'location:', location)\n",
    "\n",
    "# Derived class\n",
    "class Employee(Person, Company):\n",
    "    def Employee_info(self, salary, skill):\n",
    "        print('Inside Employee class')\n",
    "        print('Salary:', salary, 'Skill:', skill)\n",
    "\n",
    "# Create object of Employee\n",
    "emp = Employee()\n",
    "\n",
    "# access data\n",
    "emp.person_info('Milaan', 33)\n",
    "emp.company_info('Google', 'Atlanta')"
   ]
  },
  {
   "cell_type": "code",
   "execution_count": null,
   "id": "b51092a2-5715-4f23-a13f-915fb569154b",
   "metadata": {},
   "outputs": [],
   "source": []
  }
 ],
 "metadata": {
  "kernelspec": {
   "display_name": "Python 3 (ipykernel)",
   "language": "python",
   "name": "python3"
  },
  "language_info": {
   "codemirror_mode": {
    "name": "ipython",
    "version": 3
   },
   "file_extension": ".py",
   "mimetype": "text/x-python",
   "name": "python",
   "nbconvert_exporter": "python",
   "pygments_lexer": "ipython3",
   "version": "3.12.4"
  }
 },
 "nbformat": 4,
 "nbformat_minor": 5
}
